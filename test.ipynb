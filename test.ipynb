{
 "cells": [
  {
   "cell_type": "code",
   "execution_count": 1,
   "id": "d077cf08-2fe1-4255-81f4-9e294ba9385e",
   "metadata": {},
   "outputs": [],
   "source": [
    "from selenium import webdriver\n",
    "from time import sleep\n",
    "import pandas as pd\n",
    "import csv\n",
    "import warnings"
   ]
  },
  {
   "cell_type": "code",
   "execution_count": 2,
   "id": "24d37dd7-4d03-4817-8f71-eaddcfb96cc8",
   "metadata": {},
   "outputs": [],
   "source": [
    "warnings.filterwarnings(\"ignore\")\n",
    "warnings.simplefilter('ignore')"
   ]
  },
  {
   "cell_type": "code",
   "execution_count": 3,
   "id": "24c3d8af-69d2-4c86-b9d9-fdcda75fd4ec",
   "metadata": {},
   "outputs": [],
   "source": [
    "# 크롬드라이버 호출\n",
    "driver = webdriver.Chrome(executable_path = r'C:\\Users\\변정민\\Downloads\\chromedriver_win32\\chromedriver.exe')\n",
    "haksa_list = []\n",
    "janghak_list = []\n",
    "chaeyong_list = []"
   ]
  },
  {
   "cell_type": "code",
   "execution_count": 4,
   "id": "ddec7bd2-130f-41d0-87f4-5177f1ff7af7",
   "metadata": {},
   "outputs": [],
   "source": [
    "# 학사공지\n",
    "driver.get('https://hufs.ac.kr/user/indexSub.action?codyMenuSeq=37080&siteId=hufs&menuType=T&uId=4&sortChar=AB&linkUrl=04_0202.html&mainFrame=right')\n",
    "sleep(3)\n",
    "count = 1\n",
    "num = 2\n",
    "page_num = 1\n",
    "notice_num = 34"
   ]
  },
  {
   "cell_type": "code",
   "execution_count": 5,
   "id": "06fed2ba-20af-4fe4-8ae2-7904aba13245",
   "metadata": {},
   "outputs": [],
   "source": [
    "haksa_list = []\n",
    "\n",
    "while len(haksa_list) <= 5:  # 리스트 개수는 공지사항 하나 당 제목과 URL 묶음이 한 개로 취급됨, 원하는 공지사항 개수 - 1로 적을 것\n",
    "    notice_list = {}\n",
    "    try:  # 새 공통 공지사항 올라오면 숫자가 변경되는 문제 발생, 공통이 아닌 학사공지는 한 페이지에 15개 고정\n",
    "        if notice_num <= 48:\n",
    "            withtag = driver.find_element_by_xpath(f'//*[@id=\"board-container\"]/div[2]/form[1]/table/tbody/tr[{notice_num}]/td[2]').text\n",
    "            sleep(0.5)\n",
    "            \n",
    "            title = driver.find_element_by_xpath(f'//*[@id=\"board-container\"]/div[2]/form[1]/table/tbody/tr[{notice_num}]/td[2]/a').text\n",
    "            sleep(0.5)\n",
    "\n",
    "            link = driver.find_element_by_xpath(f'//*[@id=\"board-container\"]/div[2]/form[1]/table/tbody/tr[{notice_num}]/td[2]/a')\n",
    "            link.click()\n",
    "            url = driver.current_url          \n",
    "            sleep(1)\n",
    "\n",
    "            driver.back()\n",
    "            sleep(1)\n",
    "            \n",
    "        else:  # 다음 쪽으로 넘어감과 동시에 notice_num 초기화\n",
    "            notice_num = 34\n",
    "            \n",
    "            withtag = driver.find_element_by_xpath(f'//*[@id=\"board-container\"]/div[2]/form[1]/table/tbody/tr[{notice_num}]/td[2]').text\n",
    "            sleep(0.5)\n",
    "            \n",
    "            title = driver.find_element_by_xpath(f'//*[@id=\"board-container\"]/div[2]/form[1]/table/tbody/tr[{notice_num}]/td[2]/a').text\n",
    "            sleep(0.5)\n",
    "\n",
    "            link = driver.find_element_by_xpath(f'//*[@id=\"board-container\"]/div[2]/form[1]/table/tbody/tr[{notice_num}]/td[2]/a')\n",
    "            link.click()\n",
    "            url = driver.current_url          \n",
    "            sleep(1)\n",
    "\n",
    "            driver.back()\n",
    "            sleep(1)              \n",
    "    except:\n",
    "        pass\n",
    "    \n",
    "    # 태그 분류 작엄\n",
    "    # if withtag == title:\n",
    "    #     tag = '[태그없음]'\n",
    "    # else:\n",
    "    #     tag = withtag.split()\n",
    "    #     tag = tag[0]\n",
    "    if withtag.startswith('[공통]') is True:\n",
    "      tag = '[공통]'\n",
    "    elif withtag.startswith('[글로벌]') is True:\n",
    "      tag = '[글로벌]'\n",
    "    elif withtag.startswith('[서울]') is True:\n",
    "      tag = '[서울]'\n",
    "    else:\n",
    "      tag = '[태그없음]'\n",
    "\n",
    "    notice_list['태그'] = tag\n",
    "    notice_list['제목'] = title\n",
    "    notice_list['총제목'] = withtag\n",
    "    notice_list['URL'] = url\n",
    "    haksa_list.append(notice_list)\n",
    "    count += 1\n",
    "    notice_num += 1\n",
    "    sleep(1)"
   ]
  },
  {
   "cell_type": "code",
   "execution_count": 6,
   "id": "ee92ade2-4f4f-406a-8fba-6bae510ad442",
   "metadata": {},
   "outputs": [
    {
     "name": "stdout",
     "output_type": "stream",
     "text": [
      "[{'태그': '[글로벌]', '제목': '2022학년도 제1학기 졸업시험 및 졸업논문 제출 일정 공고  ', '총제목': '[글로벌] 2022학년도 제1학기 졸업시험 및 졸업논문 제출 일정 공고  ', 'URL': 'https://hufs.ac.kr/user/indexSub.action?codyMenuSeq=37080&siteId=hufs&menuType=T&uId=4&sortChar=AB&linkUrl=04_0202.html&mainFrame=right&dum=dum&boardId=109336176&page=1&command=view&boardSeq=160618107'}, {'태그': '[공통]', '제목': '후기이중전공 신청 공고  ', '총제목': '[공통] 후기이중전공 신청 공고  ', 'URL': 'https://hufs.ac.kr/user/indexSub.action?codyMenuSeq=37080&siteId=hufs&menuType=T&uId=4&sortChar=AB&linkUrl=04_0202.html&mainFrame=right&dum=dum&boardId=109336176&page=1&command=view&boardSeq=160597872'}, {'태그': '[공통]', '제목': '(용인 삼계고) 교육봉사활동 멘토 모집 공고  ', '총제목': '[공통] (용인 삼계고) 교육봉사활동 멘토 모집 공고  ', 'URL': 'https://hufs.ac.kr/user/indexSub.action?codyMenuSeq=37080&siteId=hufs&menuType=T&uId=4&sortChar=AB&linkUrl=04_0202.html&mainFrame=right&dum=dum&boardId=109336176&page=1&command=view&boardSeq=160579346'}, {'태그': '[태그없음]', '제목': '2022 ＇성희롱 등 폭력예방교육＇ 안내  ', '총제목': '2022 ＇성희롱 등 폭력예방교육＇ 안내  ', 'URL': 'https://hufs.ac.kr/user/indexSub.action?codyMenuSeq=37080&siteId=hufs&menuType=T&uId=4&sortChar=AB&linkUrl=04_0202.html&mainFrame=right&dum=dum&boardId=109336176&page=1&command=view&boardSeq=160558667'}, {'태그': '[공통]', '제목': '2022-1학기 중간시험 공고  ', '총제목': '[공통] 2022-1학기 중간시험 공고  ', 'URL': 'https://hufs.ac.kr/user/indexSub.action?codyMenuSeq=37080&siteId=hufs&menuType=T&uId=4&sortChar=AB&linkUrl=04_0202.html&mainFrame=right&dum=dum&boardId=109336176&page=1&command=view&boardSeq=160558497'}, {'태그': '[서울]', '제목': '[서울] 교,사대생등 대학생 튜터링 장학사업 신청관련 추가 안내  ', '총제목': '[서울] 교,사대생등 대학생 튜터링 장학사업 신청관련 추가 안내  ', 'URL': 'https://hufs.ac.kr/user/indexSub.action?codyMenuSeq=37080&siteId=hufs&menuType=T&uId=4&sortChar=AB&linkUrl=04_0202.html&mainFrame=right&dum=dum&boardId=109336176&page=1&command=view&boardSeq=160558103'}]\n"
     ]
    }
   ],
   "source": [
    "print(haksa_list)"
   ]
  },
  {
   "cell_type": "code",
   "execution_count": 7,
   "id": "3e2f9fcb-f0f1-4b7c-a293-6dda5d627974",
   "metadata": {},
   "outputs": [
    {
     "data": {
      "text/html": [
       "<div>\n",
       "<style scoped>\n",
       "    .dataframe tbody tr th:only-of-type {\n",
       "        vertical-align: middle;\n",
       "    }\n",
       "\n",
       "    .dataframe tbody tr th {\n",
       "        vertical-align: top;\n",
       "    }\n",
       "\n",
       "    .dataframe thead th {\n",
       "        text-align: right;\n",
       "    }\n",
       "</style>\n",
       "<table border=\"1\" class=\"dataframe\">\n",
       "  <thead>\n",
       "    <tr style=\"text-align: right;\">\n",
       "      <th></th>\n",
       "      <th>태그</th>\n",
       "      <th>제목</th>\n",
       "      <th>총제목</th>\n",
       "      <th>URL</th>\n",
       "    </tr>\n",
       "  </thead>\n",
       "  <tbody>\n",
       "    <tr>\n",
       "      <th>0</th>\n",
       "      <td>[글로벌]</td>\n",
       "      <td>2022학년도 제1학기 졸업시험 및 졸업논문 제출 일정 공고</td>\n",
       "      <td>[글로벌] 2022학년도 제1학기 졸업시험 및 졸업논문 제출 일정 공고</td>\n",
       "      <td>https://hufs.ac.kr/user/indexSub.action?codyMe...</td>\n",
       "    </tr>\n",
       "    <tr>\n",
       "      <th>1</th>\n",
       "      <td>[공통]</td>\n",
       "      <td>후기이중전공 신청 공고</td>\n",
       "      <td>[공통] 후기이중전공 신청 공고</td>\n",
       "      <td>https://hufs.ac.kr/user/indexSub.action?codyMe...</td>\n",
       "    </tr>\n",
       "    <tr>\n",
       "      <th>2</th>\n",
       "      <td>[공통]</td>\n",
       "      <td>(용인 삼계고) 교육봉사활동 멘토 모집 공고</td>\n",
       "      <td>[공통] (용인 삼계고) 교육봉사활동 멘토 모집 공고</td>\n",
       "      <td>https://hufs.ac.kr/user/indexSub.action?codyMe...</td>\n",
       "    </tr>\n",
       "    <tr>\n",
       "      <th>3</th>\n",
       "      <td>[태그없음]</td>\n",
       "      <td>2022 ＇성희롱 등 폭력예방교육＇ 안내</td>\n",
       "      <td>2022 ＇성희롱 등 폭력예방교육＇ 안내</td>\n",
       "      <td>https://hufs.ac.kr/user/indexSub.action?codyMe...</td>\n",
       "    </tr>\n",
       "    <tr>\n",
       "      <th>4</th>\n",
       "      <td>[공통]</td>\n",
       "      <td>2022-1학기 중간시험 공고</td>\n",
       "      <td>[공통] 2022-1학기 중간시험 공고</td>\n",
       "      <td>https://hufs.ac.kr/user/indexSub.action?codyMe...</td>\n",
       "    </tr>\n",
       "    <tr>\n",
       "      <th>5</th>\n",
       "      <td>[서울]</td>\n",
       "      <td>[서울] 교,사대생등 대학생 튜터링 장학사업 신청관련 추가 안내</td>\n",
       "      <td>[서울] 교,사대생등 대학생 튜터링 장학사업 신청관련 추가 안내</td>\n",
       "      <td>https://hufs.ac.kr/user/indexSub.action?codyMe...</td>\n",
       "    </tr>\n",
       "  </tbody>\n",
       "</table>\n",
       "</div>"
      ],
      "text/plain": [
       "       태그                                     제목  \\\n",
       "0   [글로벌]    2022학년도 제1학기 졸업시험 및 졸업논문 제출 일정 공고     \n",
       "1    [공통]                         후기이중전공 신청 공고     \n",
       "2    [공통]             (용인 삼계고) 교육봉사활동 멘토 모집 공고     \n",
       "3  [태그없음]               2022 ＇성희롱 등 폭력예방교육＇ 안내     \n",
       "4    [공통]                     2022-1학기 중간시험 공고     \n",
       "5    [서울]  [서울] 교,사대생등 대학생 튜터링 장학사업 신청관련 추가 안내     \n",
       "\n",
       "                                         총제목  \\\n",
       "0  [글로벌] 2022학년도 제1학기 졸업시험 및 졸업논문 제출 일정 공고     \n",
       "1                        [공통] 후기이중전공 신청 공고     \n",
       "2            [공통] (용인 삼계고) 교육봉사활동 멘토 모집 공고     \n",
       "3                   2022 ＇성희롱 등 폭력예방교육＇ 안내     \n",
       "4                    [공통] 2022-1학기 중간시험 공고     \n",
       "5      [서울] 교,사대생등 대학생 튜터링 장학사업 신청관련 추가 안내     \n",
       "\n",
       "                                                 URL  \n",
       "0  https://hufs.ac.kr/user/indexSub.action?codyMe...  \n",
       "1  https://hufs.ac.kr/user/indexSub.action?codyMe...  \n",
       "2  https://hufs.ac.kr/user/indexSub.action?codyMe...  \n",
       "3  https://hufs.ac.kr/user/indexSub.action?codyMe...  \n",
       "4  https://hufs.ac.kr/user/indexSub.action?codyMe...  \n",
       "5  https://hufs.ac.kr/user/indexSub.action?codyMe...  "
      ]
     },
     "execution_count": 7,
     "metadata": {},
     "output_type": "execute_result"
    }
   ],
   "source": [
    "df = pd.DataFrame(haksa_list)\n",
    "df"
   ]
  },
  {
   "cell_type": "code",
   "execution_count": null,
   "id": "42845949-3c34-4daa-9f48-7b6cf1de0b73",
   "metadata": {},
   "outputs": [],
   "source": [
    "df.to_csv('학사.csv', index =False, encoding=\"UTF-8-sig\")"
   ]
  }
 ],
 "metadata": {
  "kernelspec": {
   "display_name": "Python 3 (ipykernel)",
   "language": "python",
   "name": "python3"
  },
  "language_info": {
   "codemirror_mode": {
    "name": "ipython",
    "version": 3
   },
   "file_extension": ".py",
   "mimetype": "text/x-python",
   "name": "python",
   "nbconvert_exporter": "python",
   "pygments_lexer": "ipython3",
   "version": "3.7.4"
  }
 },
 "nbformat": 4,
 "nbformat_minor": 5
}
